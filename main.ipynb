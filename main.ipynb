{
 "cells": [
  {
   "cell_type": "markdown",
   "id": "062949ab",
   "metadata": {},
   "source": [
    "FILE\t\t\t: main.ipynb\n",
    "PROJECT\t\t\t: Shaolin AI Assignment 2\n",
    "PROGRAMMER\t\t: Jack parkinson\n",
    "FIRST VERSION\t: 2024-Mar-24\n",
    "DESCRIPTION\t\t:\n",
    "\t[description of the file’s purpose]\n"
   ]
  },
  {
   "cell_type": "markdown",
   "id": "22fa2cc8",
   "metadata": {},
   "source": [
    "Assumptions:\n",
    "- The instructions say to save a sales item's quantity and menu item ID as seprate variables, but only the sales item ID is needed to check the presence of a sales item in the report. The quantity is not used as its own variable."
   ]
  },
  {
   "cell_type": "markdown",
   "id": "0e8296ed",
   "metadata": {},
   "source": [
    "Program flow:\n",
    "[this will be copied from .txt file when ready for submission]\n"
   ]
  },
  {
   "cell_type": "code",
   "execution_count": 1,
   "id": "1b0cfe36",
   "metadata": {},
   "outputs": [],
   "source": [
    "# Import statements and set file paths\n",
    "import csv\n",
    "from pathlib import Path\n",
    "\n",
    "menu_filepath = Path(\"./PySteak/Resources/menu_data.csv\")\n",
    "sales_filepath = Path(\"./PySteak/Resources/sales_data.csv\")"
   ]
  },
  {
   "cell_type": "code",
   "execution_count": 2,
   "id": "b12c7de7",
   "metadata": {},
   "outputs": [
    {
     "name": "stdout",
     "output_type": "stream",
     "text": [
      "Menu headers: \n",
      "['item', 'category', 'description', 'price', 'cost']\n",
      "['edamame', 'appetizers', 'boiled soybeans, maldon sea salt', '4', '1']\n",
      "Sales headers: \n",
      "['Line_Item_ID', 'Date', 'Credit_Card_Number', 'Quantity', 'Menu_Item']\n",
      "['1', '01-01-2017', '7437926611570799', '1', 'spicy miso ramen']\n"
     ]
    }
   ],
   "source": [
    "# Lists to hold menu and sales entries\n",
    "menu = []\n",
    "sales = []\n",
    "\n",
    "with open(menu_filepath) as menu_file:\n",
    "    menu_data = csv.reader(menu_file, delimiter=\",\")\n",
    "    menu_header = next(menu_data)\n",
    "    for row in menu_data:\n",
    "        menu.append(row)\n",
    "print(\"Menu headers: \")\n",
    "print(menu_header)\n",
    "print(menu[0])\n",
    "\n",
    "with open(sales_filepath) as sales_file:\n",
    "    sales_data = csv.reader(sales_file, delimiter=\",\")\n",
    "    sales_header = next(sales_data)\n",
    "    for row in sales_data:\n",
    "        sales.append(row)\n",
    "print(\"Sales headers: \")\n",
    "print(sales_header)\n",
    "print(sales[0])\n"
   ]
  },
  {
   "cell_type": "code",
   "execution_count": 6,
   "id": "d35c9bef",
   "metadata": {},
   "outputs": [],
   "source": [
    "# Store aggregated results for each product in a dict.\n",
    "# Each report will contain: \"01-count\", \"02-revenue\", \"03-cost\", \"04-profit\" in a dict.\n",
    "\n",
    "\n",
    "# Create empty dict of dicts.\n",
    "restaurant_report = {}\n",
    "\n",
    "# Save each sale row's item name (\"spicy miso ramen\") and quantity (4)\n",
    "for sale in sales:\n",
    "    sale_name = sale[4]\n",
    "    quantity = sale[3]\n",
    "    # If it isn't in the report, add it by copying values from the menu list\n",
    "    if sale_name not in restaurant_report:\n",
    "        restaurant_report[sale_name] = {\"01-count\": 0, \"02-revenue\": 0, \"03-cost\": 0, \"04-profit\": 0}\n",
    "        found_menu_data = False\n",
    "        for menu_item in menu:\n",
    "            if sale_name == menu_item[0]:\n",
    "                # copy the values\n",
    "\n",
    "                found_menu_data = True\n",
    "        # If you couldn't find proper menu data, output an error message"
   ]
  },
  {
   "cell_type": "code",
   "execution_count": null,
   "id": "cc64b220",
   "metadata": {},
   "outputs": [],
   "source": [
    "# Write contents of the report to a text file."
   ]
  },
  {
   "cell_type": "code",
   "execution_count": null,
   "id": "229c6137",
   "metadata": {},
   "outputs": [],
   "source": []
  }
 ],
 "metadata": {
  "kernelspec": {
   "display_name": "base",
   "language": "python",
   "name": "python3"
  },
  "language_info": {
   "codemirror_mode": {
    "name": "ipython",
    "version": 3
   },
   "file_extension": ".py",
   "mimetype": "text/x-python",
   "name": "python",
   "nbconvert_exporter": "python",
   "pygments_lexer": "ipython3",
   "version": "3.11.5"
  }
 },
 "nbformat": 4,
 "nbformat_minor": 5
}
