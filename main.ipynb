{
 "cells": [
  {
   "cell_type": "markdown",
   "id": "062949ab",
   "metadata": {},
   "source": [
    "FILE\t\t\t: main.ipynb\n",
    "PROJECT\t\t\t: Shaolin AI Assignment 2\n",
    "PROGRAMMER\t\t: Jack parkinson\n",
    "FIRST VERSION\t: 2024-Mar-24\n",
    "DESCRIPTION\t\t:\n",
    "\t[description of the file’s purpose]\n"
   ]
  },
  {
   "cell_type": "code",
   "execution_count": null,
   "id": "1b0cfe36",
   "metadata": {},
   "outputs": [],
   "source": [
    "# Import statements and set file paths\n",
    "import csv\n",
    "from pathlib import Path\n",
    "\n",
    "menu_filepath = Path(\"./Resources/menu_data.csv\")\n",
    "sales_filepath = Path(\"./Resources/sales_data.csv\")"
   ]
  },
  {
   "cell_type": "code",
   "execution_count": null,
   "id": "b12c7de7",
   "metadata": {},
   "outputs": [],
   "source": [
    "# Lists to hold menu and sales data\n",
    "menu = []\n",
    "sales = []\n"
   ]
  },
  {
   "cell_type": "code",
   "execution_count": null,
   "id": "7e1c23dc",
   "metadata": {},
   "outputs": [],
   "source": []
  },
  {
   "cell_type": "code",
   "execution_count": null,
   "id": "229c6137",
   "metadata": {},
   "outputs": [],
   "source": []
  }
 ],
 "metadata": {
  "language_info": {
   "name": "python"
  }
 },
 "nbformat": 4,
 "nbformat_minor": 5
}
